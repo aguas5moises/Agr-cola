{
  "nbformat": 4,
  "nbformat_minor": 0,
  "metadata": {
    "colab": {
      "provenance": []
    },
    "kernelspec": {
      "name": "python3",
      "display_name": "Python 3"
    },
    "language_info": {
      "name": "python"
    }
  },
  "cells": [
    {
      "cell_type": "code",
      "execution_count": null,
      "metadata": {
        "id": "uOfaAttmPN4u"
      },
      "outputs": [],
      "source": []
    },
    {
      "cell_type": "markdown",
      "source": [
        "# Tarea: Resolución de Ecuaciones Matemáticas con Python\n",
        "**Introduccion **\n",
        "\n",
        "Este notebook tiene como objetivo resolver tres ecuaciones utilizando Python. Las ecuaciones abordadas son:\n",
        "1. Una ecuación cuadrática.\n",
        "2. Una ecuación de caída libre.\n",
        "3. La ley de enfriamiento de Newton.\n",
        "\n",
        "Además, se utilizará GitHub para la gestión de versiones, y el trabajo colaborativo, aunque en este caso se realizará de forma individual.\n",
        "\n",
        "**Nombre del Estudiante:** [moises aguas de hoyos]\n"
      ],
      "metadata": {
        "id": "avIX1353S5Zp"
      }
    },
    {
      "cell_type": "markdown",
      "source": [
        "Primera ecuacion\n",
        "\n",
        "\n",
        "\n",
        "Primero, resolveremos una ecuación cuadrática. La ecuación es\n",
        "𝑥\n",
        "2\n",
        "−\n",
        "4\n",
        "=\n",
        "0\n",
        "y buscamos los valores de\n",
        "x que satisfacen esta ecuación. Utilizamos la función fsolve de la librería scipy, que es una herramienta poderosa para resolver ecuaciones no lineales. Como se puede ver, el valor de x que hace que la ecuación sea igual a cero"
      ],
      "metadata": {
        "id": "PJVwpuwgUBpF"
      }
    },
    {
      "cell_type": "code",
      "source": [
        "# Importar las librerías necesarias\n",
        "from scipy.optimize import fsolve\n",
        "\n",
        "# Definir la ecuación cuadrática\n",
        "def ecuacion1(x):\n",
        "    return x**2 - 4\n",
        "\n",
        "# Resolver la ecuación usando un valor inicial de x\n",
        "solucion1 = fsolve(ecuacion1, x0=1)\n",
        "print(\"Solución de la ecuación cuadrática:\", solucion1)\n",
        "\n",
        "\n"
      ],
      "metadata": {
        "id": "y0XFS-CIUqHC"
      },
      "execution_count": null,
      "outputs": []
    },
    {
      "cell_type": "markdown",
      "source": [
        "## Ecuación de Caída Libre\n",
        "\n",
        "La ecuación de caída libre describe el movimiento de un objeto que cae bajo la influencia de la gravedad sin resistencia del aire. La ecuación es:\n",
        "\n",
        "$$ h = \\frac{1}{2} g t^2 $$\n",
        "\n",
        "Donde:\n",
        "- \\( h \\) es la altura (en metros),\n",
        "- \\( g \\) es la aceleración de la gravedad, que es aproximadamente \\( 9.8 \\, \\text{m/s}^2 \\),\n",
        "- \\( t \\) es el tiempo (en segundos).\n",
        "\n",
        "Nuestro objetivo es calcular la altura desde la que un objeto cae después de un tiempo determinado.\n",
        "\n"
      ],
      "metadata": {
        "id": "jfdPN34pVBFO"
      }
    },
    {
      "cell_type": "code",
      "source": [
        "# Definir la aceleración de la gravedad\n",
        "g = 9.8  # en m/s^2\n",
        "\n",
        "# Definir la función que calcula la altura en función del tiempo\n",
        "def altura(t):\n",
        "    return 0.5 * g * t**2\n",
        "\n",
        "# Calcular la altura después de 3 segundos\n",
        "tiempo = 3  # tiempo en segundos\n",
        "h = altura(tiempo)\n",
        "print(f\"Altura después de {tiempo} segundos: {h} metros\")\n",
        "\n"
      ],
      "metadata": {
        "colab": {
          "base_uri": "https://localhost:8080/"
        },
        "id": "BgB1tYv4VsyN",
        "outputId": "27dbe34c-7549-44bc-c2d6-ea2191566b39"
      },
      "execution_count": 1,
      "outputs": [
        {
          "output_type": "stream",
          "name": "stdout",
          "text": [
            "Altura después de 3 segundos: 44.1 metros\n"
          ]
        }
      ]
    },
    {
      "cell_type": "markdown",
      "source": [
        "## Conclusiones\n",
        "\n",
        "En este notebook, se explico brevemente como usando programacion hemos  resuelto dos  ecuaciones matemáticas utilizando Python:\n",
        "\n",
        "1. Una ecuación cuadrática, resuelta usando el método `fsolve` de `scipy`.\n",
        "2. Una ecuación de caída libre, donde se calculó la altura en función del tiempo.\n",
        "\n",
        "Este trabajo permitió aplicar conceptos matemáticos y habilidades en programación, así como gestionar las versiones del notebook en GitHub para mantener un registro detallado del progreso.\n"
      ],
      "metadata": {
        "id": "MkRLtMZMWNCc"
      }
    }
  ]
}